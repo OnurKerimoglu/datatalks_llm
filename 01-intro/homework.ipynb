{
 "cells": [
  {
   "cell_type": "markdown",
   "id": "0c3185a2",
   "metadata": {},
   "source": [
    "# LLM-ZOOMCAMP HW-1"
   ]
  },
  {
   "cell_type": "markdown",
   "id": "23a93518",
   "metadata": {},
   "source": [
    "## Q1\n",
    "Based on the output of 'curl http://localhost:9200',\n",
    "version.build_hash reads:\n",
    "42f05b9372a9a4a470db3b52817899b99a76ee73"
   ]
  },
  {
   "cell_type": "markdown",
   "id": "06ce00f1",
   "metadata": {},
   "source": [
    "## Q2"
   ]
  }
 ],
 "metadata": {
  "language_info": {
   "name": "python"
  }
 },
 "nbformat": 4,
 "nbformat_minor": 5
}
