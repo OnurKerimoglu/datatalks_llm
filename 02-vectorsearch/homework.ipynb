{
 "cells": [
  {
   "cell_type": "markdown",
   "id": "8a2442fe",
   "metadata": {},
   "source": [
    "# LLM-Zoomcamp 02-Vector-Search"
   ]
  },
  {
   "cell_type": "markdown",
   "id": "a4dc48dd",
   "metadata": {},
   "source": [
    "## Q1\n",
    "\n",
    "Answer: -0.11\n",
    "\n",
    "Solution:"
   ]
  },
  {
   "cell_type": "code",
   "execution_count": null,
   "id": "8a7743c8",
   "metadata": {},
   "outputs": [],
   "source": [
    "from fastembed import TextEmbedding\n",
    "model = 'jinaai/jina-embeddings-v2-small-en'\n",
    "embedding_model = TextEmbedding(model_name=model)"
   ]
  },
  {
   "cell_type": "code",
   "execution_count": null,
   "id": "4d6deac8",
   "metadata": {},
   "outputs": [],
   "source": [
    "queries = ['I just discovered the course. Can I join now?']\n",
    "query_embeddings_generator = embedding_model.embed(queries)\n",
    "query_embeddings_list = list(query_embeddings_generator)\n",
    "q = query_embeddings_list[0]"
   ]
  },
  {
   "cell_type": "code",
   "execution_count": null,
   "id": "e09305dc",
   "metadata": {},
   "outputs": [],
   "source": [
    "\n",
    "len(q)"
   ]
  },
  {
   "cell_type": "code",
   "execution_count": null,
   "id": "161f2195",
   "metadata": {},
   "outputs": [],
   "source": [
    "min(q)"
   ]
  },
  {
   "cell_type": "code",
   "execution_count": null,
   "id": "e80943d7",
   "metadata": {},
   "outputs": [],
   "source": [
    "import numpy as np\n",
    "np.linalg.norm(q)"
   ]
  },
  {
   "cell_type": "markdown",
   "id": "16134ad7",
   "metadata": {},
   "source": [
    "## Q2\n",
    "\n",
    "answer: 0.9\n",
    "\n",
    "Solution:"
   ]
  },
  {
   "cell_type": "code",
   "execution_count": null,
   "id": "0647caed",
   "metadata": {},
   "outputs": [],
   "source": [
    "docs = ['Can I still join the course after the start date?']\n",
    "doc_embeddings_generator = embedding_model.embed(docs)\n",
    "doc_embeddings_list = list(doc_embeddings_generator)\n",
    "d = doc_embeddings_list[0]"
   ]
  },
  {
   "cell_type": "code",
   "execution_count": null,
   "id": "62a7a4db",
   "metadata": {},
   "outputs": [],
   "source": [
    "q.dot(d)"
   ]
  },
  {
   "cell_type": "markdown",
   "id": "a534c9db",
   "metadata": {},
   "source": [
    "## Q3"
   ]
  }
 ],
 "metadata": {
  "kernelspec": {
   "display_name": "llm-zoomcamp",
   "language": "python",
   "name": "python3"
  },
  "language_info": {
   "codemirror_mode": {
    "name": "ipython",
    "version": 3
   },
   "file_extension": ".py",
   "mimetype": "text/x-python",
   "name": "python",
   "nbconvert_exporter": "python",
   "pygments_lexer": "ipython3",
   "version": "3.11.1"
  }
 },
 "nbformat": 4,
 "nbformat_minor": 5
}
